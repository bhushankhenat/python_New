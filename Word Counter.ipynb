{
 "cells": [
  {
   "cell_type": "code",
   "execution_count": 9,
   "id": "8d3580d4",
   "metadata": {},
   "outputs": [
    {
     "name": "stdout",
     "output_type": "stream",
     "text": [
      "Give your input here : \n",
      "please provide valid input\n",
      "the number of words in paragraph/sentence are 0.\n"
     ]
    }
   ],
   "source": [
    "\n",
    "my_str = input(\"Give your input here : \")   # here we are taking input from the user\n",
    "\n",
    "if (my_str==\"\"):\n",
    "     print(\"please provide valid input\")    # validating if string is empty or not and if contains spaces only \n",
    "        \n",
    "else:\n",
    "    manipulated_str = my_str.strip().split()\n",
    "    length = len(manipulated_str)\n",
    "    \n",
    "    \n",
    "print(f\"the number of words in paragraph/sentence are {length}.\")\n"
   ]
  },
  {
   "cell_type": "code",
   "execution_count": null,
   "id": "5d3a02e6",
   "metadata": {},
   "outputs": [
    {
     "name": "stdout",
     "output_type": "stream",
     "text": [
      "***********- Word Counter -***********\n"
     ]
    }
   ],
   "source": [
    "\n",
    "\n",
    "\n",
    "\n",
    "\n",
    "\n",
    "def split_string(x):\n",
    "    if(x == \"\"):\n",
    "        print(\"please provide valid input\")\n",
    "    else:\n",
    "        manipulated_str = x.strip().split()\n",
    "        length = len(manipulated_str)\n",
    "        print(length)\n",
    "\n",
    "    \n",
    "    \n",
    "print(\"***********- Word Counter -***********\")   \n",
    "split_string(input(\"\"))\n",
    "\n",
    "    \n",
    "    \n",
    "\n",
    "\n",
    "\n",
    "\n",
    "\n",
    "\n",
    "\n",
    "\n",
    "\n",
    "\n",
    "\n"
   ]
  },
  {
   "cell_type": "code",
   "execution_count": 8,
   "id": "eab78abd",
   "metadata": {},
   "outputs": [
    {
     "name": "stdout",
     "output_type": "stream",
     "text": [
      "7\n"
     ]
    }
   ],
   "source": [
    "bhushan =(\"      bhuuduf      \")\n",
    "\n",
    "print(len(bhushan.strip()))"
   ]
  },
  {
   "cell_type": "code",
   "execution_count": null,
   "id": "341b9f2b",
   "metadata": {},
   "outputs": [],
   "source": []
  }
 ],
 "metadata": {
  "kernelspec": {
   "display_name": "Python 3 (ipykernel)",
   "language": "python",
   "name": "python3"
  },
  "language_info": {
   "codemirror_mode": {
    "name": "ipython",
    "version": 3
   },
   "file_extension": ".py",
   "mimetype": "text/x-python",
   "name": "python",
   "nbconvert_exporter": "python",
   "pygments_lexer": "ipython3",
   "version": "3.11.5"
  }
 },
 "nbformat": 4,
 "nbformat_minor": 5
}
