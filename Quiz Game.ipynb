{
 "cells": [
  {
   "cell_type": "markdown",
   "id": "4bdba73d",
   "metadata": {},
   "source": [
    "# Quiz Game"
   ]
  },
  {
   "cell_type": "code",
   "execution_count": 1,
   "id": "852ae898",
   "metadata": {},
   "outputs": [
    {
     "name": "stdout",
     "output_type": "stream",
     "text": [
      "*********************************\n",
      "what is capital of india?\n",
      "A. Pune\n",
      "B. Mumbai\n",
      "C. Chennai\n",
      "D. Delhi\n",
      "Enter your choice: D\n",
      "Answer is correct\n",
      "*********************************\n",
      "what is capital of maharastra?\n",
      "A. Pune\n",
      "B. Mumbai\n",
      "C. Kolhapur\n",
      "D. Nasik\n",
      "Enter your choice: B\n",
      "Answer is correct\n",
      "*********************************\n",
      "which city is called as oxford of east?\n",
      "A. Pune\n",
      "B. Banglore\n",
      "C. Chennai\n",
      "D. Delhi\n",
      "Enter your choice: A\n",
      "Answer is correct\n",
      "*********************************\n",
      "which one is wild animal?\n",
      "A. cat\n",
      "B. Dog\n",
      "C. Tiger\n",
      "D. Cow\n",
      "Enter your choice: A\n",
      "C is correct Answer\n",
      "3\n"
     ]
    }
   ],
   "source": [
    "questions= (\"what is capital of india?\",\n",
    "            \"what is capital of maharastra?\",\n",
    "           \"which city is called as oxford of east?\",\n",
    "            \"which one is wild animal?\")\n",
    "\n",
    "options = ((\"A. Pune\", \"B. Mumbai\", \"C. Chennai\", \"D. Delhi\"),\n",
    "           (\"A. Pune\", \"B. Mumbai\", \"C. Kolhapur\",\"D. Nasik\"),\n",
    "           (\"A. Pune\", \"B. Banglore\", \"C. Chennai\", \"D. Delhi\"),\n",
    "           (\"A. cat\", \"B. Dog\",\"C. Tiger\", \"D. Cow\")\n",
    "          )\n",
    "answers = (\"D\",\"B\",\"A\",\"C\")\n",
    "\n",
    "question_num = 0\n",
    " \n",
    "score =0\n",
    "\n",
    "for question in questions:\n",
    "    print(\"*********************************\")\n",
    "    print(question)\n",
    "    for option in  options[question_num]:\n",
    "        print(option)\n",
    "    \n",
    "    \n",
    "    choice = (input(\"Enter your choice: \"))\n",
    "    if choice == answers[question_num]:\n",
    "            print(\"Answer is correct\")\n",
    "            score += 1\n",
    "    else:\n",
    "            print(f\"{answers[question_num]} is correct Answer\")\n",
    "            \n",
    "    question_num +=1  \n",
    "\n",
    "print(f\"your score)    \n",
    "\n"
   ]
  },
  {
   "cell_type": "code",
   "execution_count": null,
   "id": "92239c81",
   "metadata": {},
   "outputs": [],
   "source": [
    "\n",
    "Question1 = (input(\"what is capital of india\"))"
   ]
  },
  {
   "cell_type": "code",
   "execution_count": 2,
   "id": "05cc43f3",
   "metadata": {},
   "outputs": [
    {
     "ename": "NameError",
     "evalue": "name 'choice' is not defined",
     "output_type": "error",
     "traceback": [
      "\u001b[1;31m---------------------------------------------------------------------------\u001b[0m",
      "\u001b[1;31mNameError\u001b[0m                                 Traceback (most recent call last)",
      "Cell \u001b[1;32mIn[2], line 1\u001b[0m\n\u001b[1;32m----> 1\u001b[0m \u001b[38;5;28mprint\u001b[39m(\u001b[38;5;28mtype\u001b[39m(choice))\n",
      "\u001b[1;31mNameError\u001b[0m: name 'choice' is not defined"
     ]
    }
   ],
   "source": [
    "print(type(choice))"
   ]
  },
  {
   "cell_type": "code",
   "execution_count": null,
   "id": "bffb34c5",
   "metadata": {},
   "outputs": [],
   "source": []
  },
  {
   "cell_type": "code",
   "execution_count": null,
   "id": "07bbaedb",
   "metadata": {},
   "outputs": [],
   "source": []
  },
  {
   "cell_type": "code",
   "execution_count": null,
   "id": "7ab95550",
   "metadata": {},
   "outputs": [],
   "source": []
  }
 ],
 "metadata": {
  "kernelspec": {
   "display_name": "Python 3 (ipykernel)",
   "language": "python",
   "name": "python3"
  },
  "language_info": {
   "codemirror_mode": {
    "name": "ipython",
    "version": 3
   },
   "file_extension": ".py",
   "mimetype": "text/x-python",
   "name": "python",
   "nbconvert_exporter": "python",
   "pygments_lexer": "ipython3",
   "version": "3.11.5"
  }
 },
 "nbformat": 4,
 "nbformat_minor": 5
}
